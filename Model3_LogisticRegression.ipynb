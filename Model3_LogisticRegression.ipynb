{
 "cells": [
  {
   "cell_type": "code",
   "execution_count": null,
   "metadata": {},
   "outputs": [],
   "source": [
    "import numpy as np\n",
    "# !pip install pandas\n",
    "import pandas as pd\n",
    "import matplotlib.pyplot as plt\n",
    "# !pip install seaborn\n",
    "import seaborn as sns"
   ]
  },
  {
   "cell_type": "code",
   "execution_count": 76,
   "metadata": {},
   "outputs": [],
   "source": [
    "# !pip install scikit-learn\n",
    "import sklearn\n",
    "from sklearn.model_selection import train_test_split\n",
    "from sklearn.metrics import accuracy_score, f1_score, confusion_matrix, classification_report"
   ]
  },
  {
   "cell_type": "code",
   "execution_count": 77,
   "metadata": {},
   "outputs": [
    {
     "name": "stdout",
     "output_type": "stream",
     "text": [
      "   id                                              title  \\\n",
      "0   0  ہم لکھنے والے ایک بے ایمان معاشرہ میں سانس لے ...   \n",
      "1   1                          ’’کیا اُدھر باغ بھی ہے؟‘‘   \n",
      "2   2               کچھ زخمی کہہ رہے تھے کہ وہ زندہ ہیں…   \n",
      "3   3               آگرے والا عبدالکریم اور ملکہ وکٹوریہ   \n",
      "4   4                                \"چچی سیدانی تھیں….”   \n",
      "\n",
      "                                                link  \\\n",
      "0  https://urdu.arynews.tv/intezar-hussain-urdu-w...   \n",
      "1   https://urdu.arynews.tv/lakhnau-nawab-mahalsara/   \n",
      "2  https://urdu.arynews.tv/politics-and-politicia...   \n",
      "3  https://urdu.arynews.tv/munshi-abdul-karim-and...   \n",
      "4        https://urdu.arynews.tv/aslam-parvez-khaka/   \n",
      "\n",
      "                                             content     gold_label  \n",
      "0  سوچتا ہوں غالب س کتن مختلف زمان جی رہ ہیں شخص ...  entertainment  \n",
      "1  محمد حسین آزاد ن میر ک بار واقعہ لکھا ہ انھوں...  entertainment  \n",
      "2  وطنِ عزیز سیاست دار و مدار رہ ہ جماعت ن کتنا ب...  entertainment  \n",
      "3  پیار شوہر البرٹ ب حد عزیز ملازم جان بران ک مرن...  entertainment  \n",
      "4  خاکہ نگاری اردو مقبول صنف رہی ہ زیادہ تر اہلِ ...  entertainment  \n",
      "(1487, 5)\n"
     ]
    }
   ],
   "source": [
    "\n",
    "df=pd.read_csv(\"C:/Users/N/Desktop/Fall 2024/Machine Learning CS 438/Project/combined_articles_final.csv\")\n",
    "print(df.head())\n",
    "print(df.shape)\n"
   ]
  },
  {
   "cell_type": "code",
   "execution_count": null,
   "metadata": {},
   "outputs": [
    {
     "data": {
      "text/plain": [
       "0    سوچتا ہوں غالب س کتن مختلف زمان جی رہ ہیں شخص ...\n",
       "1    محمد حسین ن میر ک بار واقعہ لکھا ہ انھوں ن اپن...\n",
       "2    عزیز سیاست دار و مدار رہ ہ جماعت ن کتنا بڑا جل...\n",
       "3    پیار شوہر البرٹ ب حد عزیز ملازم جان بران ک مرن...\n",
       "4    خاکہ نگاری اردو مقبول صنف رہی ہ زیادہ تر قلم ن...\n",
       "Name: processed_content, dtype: object"
      ]
     },
     "execution_count": 78,
     "metadata": {},
     "output_type": "execute_result"
    }
   ],
   "source": [
    "stopwords = {\n",
    "    'اور', 'ایک', 'کو', 'ہے', 'میں', 'کی', 'سے', 'پر', 'ہو', 'یہ', 'کا', 'اس', 'کہ', 'کر', 'تھا', 'تھی', 'تھے', \n",
    "    'لیے', 'بھی', 'نے', 'جو', 'ہوا', 'وہ', 'کیا', 'جا', 'نہ', 'تو', 'یا', 'کرنے', 'گیا', 'کر', 'دیا', \n",
    "    'لیکن', 'بہت', 'آپ', 'ہم', 'سب', 'کچھ', 'اپنے', 'ان', 'کردی', 'اگر', 'ہوتی', 'اب', 'مجھے', 'اسی', 'جس', 'اسے', \n",
    "    'اپنی', 'کسی', 'ہوتا', 'انہوں', 'تھیں', 'کہا', 'جب', 'اُس', 'کل', 'کوئی', 'ہوتے', 'تم', 'کس', 'رہا', 'کن', 'ایسے', \n",
    "    'جاتا', 'اسی', 'اُن', 'رہے', 'گئے', 'جاتی', 'تھے', 'اُنہوں', 'اُسی', 'بنی', 'بعد', 'چاہیے', 'بین', 'پھر', 'اُنکا', 'ہونے'\n",
    "}\n",
    "def preprocess_text(text, stopwords_list):\n",
    "    tokens = text.lower().split()  \n",
    "    tokens = [token for token in tokens if token.isalnum()] \n",
    "    return ' '.join([token for token in tokens if token not in stopwords_list])\n",
    "\n",
    "\n",
    "df['processed_content'] = df['content'].apply(lambda x: preprocess_text(x, stopwords))\n",
    "df['processed_content'].head()\n",
    "\n"
   ]
  },
  {
   "cell_type": "code",
   "execution_count": null,
   "metadata": {},
   "outputs": [
    {
     "name": "stdout",
     "output_type": "stream",
     "text": [
      "(1189,)\n",
      "(298,)\n",
      "(1189,)\n",
      "(298,)\n"
     ]
    }
   ],
   "source": [
    "train_data, test_data, train_labels, test_labels = train_test_split(df['processed_content'], \n",
    "    df['gold_label'], test_size=0.2, random_state=42)\n",
    "print(train_data.shape)\n",
    "print(test_data.shape)\n",
    "print(train_labels.shape)\n",
    "print(test_labels.shape)\n"
   ]
  },
  {
   "cell_type": "code",
   "execution_count": 80,
   "metadata": {},
   "outputs": [
    {
     "name": "stdout",
     "output_type": "stream",
     "text": [
      "(1189, 16470)\n",
      "(298, 16470)\n"
     ]
    }
   ],
   "source": [
    "from collections import Counter\n",
    "from sklearn.feature_extraction.text import CountVectorizer\n",
    "import numpy as np \n",
    "\n",
    "class BagOfWords:\n",
    "    def __init__(self):\n",
    "        self.vocabulary_ = {}\n",
    "        self.vocabulary_size_ = 0\n",
    "\n",
    "    def fit(self, corpus):\n",
    "        \"\"\"Build a vocabulary from the provided corpus\"\"\"\n",
    "        word_counts = Counter(word for sentence in corpus for word in sentence.split())\n",
    "        self.vocabulary_ = {word: idx for idx, word in enumerate(word_counts)}\n",
    "        self.vocabulary_size_ = len(self.vocabulary_)\n",
    "    \n",
    "    def vectorize(self, sentence):\n",
    "        \"\"\"Convert a sentence into a bag-of-words vector\"\"\"\n",
    "        words = sentence.split()\n",
    "        vector = np.zeros(self.vocabulary_size_, dtype=int)\n",
    "        for word in words:\n",
    "            if word in self.vocabulary_:\n",
    "                index = self.vocabulary_[word]\n",
    "                vector[index] += 1\n",
    "        return vector\n",
    "\n",
    "bow = BagOfWords()\n",
    "bow.fit(train_data)\n",
    "\n",
    "X_train_vectors = np.array([bow.vectorize(text) for text in train_data])\n",
    "X_test_vectors = np.array([bow.vectorize(text) for text in test_data])\n",
    "print(X_train_vectors.shape)\n",
    "print(X_test_vectors.shape)"
   ]
  },
  {
   "cell_type": "code",
   "execution_count": null,
   "metadata": {},
   "outputs": [
    {
     "name": "stdout",
     "output_type": "stream",
     "text": [
      "Test sentence: the cat sat on the mat\n",
      "Vectorized sentence: [2 1 1 1 1]\n",
      "Expected:  [2 1 1 1 1]\n",
      "Vectorization works:  [ True  True  True  True  True]\n"
     ]
    }
   ],
   "source": [
    "import numpy as np\n",
    "bow_check = BagOfWords()\n",
    "\n",
    "example_vocabulary = [\"the cat sat on the mat\"]  # One string to mimic how sentences are usually input\n",
    "bow_check.fit(example_vocabulary)\n",
    "\n",
    "test_sentence = \"the cat sat on the mat\"\n",
    "vector = bow_check.vectorize(test_sentence)\n",
    "# vector_check= list(vector.values())\n",
    "\n",
    "print(\"Test sentence:\", test_sentence)\n",
    "print(\"Vectorized sentence:\", vector)\n",
    "\n",
    "expected_vector = np.array([2, 1, 1, 1, 1])\n",
    "print(\"Expected: \", expected_vector)\n",
    "print(\"Vectorization works: \",vector == expected_vector)"
   ]
  },
  {
   "cell_type": "code",
   "execution_count": null,
   "metadata": {},
   "outputs": [
    {
     "name": "stdout",
     "output_type": "stream",
     "text": [
      "Shape of training vectors: (1189, 16470)\n",
      "Shape of test vectors: (298, 16470)\n"
     ]
    }
   ],
   "source": [
    "print(f\"Shape of training vectors: {X_train_vectors.shape}\")\n",
    "print(f\"Shape of test vectors: {X_test_vectors.shape}\")"
   ]
  },
  {
   "cell_type": "code",
   "execution_count": null,
   "metadata": {},
   "outputs": [],
   "source": [
    "class RegularizedLogisticRegression:\n",
    "    def __init__(self, learning_rate=0.001, num_iterations=1000, lambda_reg=0.01):\n",
    "        \n",
    "        self.learning_rate = learning_rate\n",
    "        self.num_iterations = num_iterations\n",
    "        self.lambda_reg = lambda_reg\n",
    "        self.theta = None\n",
    "\n",
    "    def sigmoid(self, x):\n",
    "    \n",
    "        return np.where(x >= 0, 1 / (1 + np.exp(-x)), np.exp(x) / (1 + np.exp(x)))\n",
    "\n",
    "        # return 1 / (1 + np.exp(-x))\n",
    "\n",
    "    def cross_entropy_loss(self, y_true, y_pred):\n",
    "        \n",
    "        m = len(y_true)\n",
    "        epsilon = 1e-15  # Small value to avoid log(0)\n",
    "    \n",
    " \n",
    "        y_pred = np.clip(y_pred, epsilon, 1 - epsilon)\n",
    "        loss = (-1/m) * (np.dot(y_true, np.log(y_pred)) + np.dot(1 - y_true, np.log(1 - y_pred)))\n",
    "        regularization = (self.lambda_reg / (2 * m)) * np.sum(np.square(self.theta[1:]))  # Regularization term (excluding bias)\n",
    "        return loss + regularization\n",
    "\n",
    "    def fit(self, X_train, y_train):\n",
    "        \n",
    "        loss_history=[]\n",
    "        m, n = X_train.shape  \n",
    "        \n",
    "        \n",
    "        self.theta = np.random.randn(n + 1) * 0.01\n",
    "\n",
    "        # self.theta = np.zeros(n + 1)\n",
    "        \n",
    "        \n",
    "        X_train = np.hstack([np.ones((m, 1)), X_train]) \n",
    "        \n",
    "        for i in range(self.num_iterations):\n",
    "        \n",
    "            y_pred = self.sigmoid(np.dot(X_train, self.theta))\n",
    "            \n",
    "            \n",
    "            gradient = (1/m) * np.dot(X_train.T, (y_pred - y_train))\n",
    "            gradient[1:] += (self.lambda_reg / m) * self.theta[1:]\n",
    "            gradient = np.clip(gradient, -1.0, 1.0)\n",
    "        \n",
    "            self.theta -= self.learning_rate * gradient\n",
    "            if i % 1000 == 0:\n",
    "                loss = self.cross_entropy_loss(y_train, y_pred)\n",
    "                print(f\"Iteration {i}, Loss: {loss}\")\n",
    "          \n",
    "            loss = self.cross_entropy_loss(y_train, y_pred)\n",
    "            loss_history.append(loss)\n",
    "        \n",
    "        return loss_history\n",
    "\n",
    "    def predict(self, X_test):\n",
    "       \n",
    "        m = X_test.shape[0] \n",
    "        X_test = np.hstack([np.ones((m, 1)), X_test]) \n",
    "        \n",
    "        y_pred_prob = self.sigmoid(np.dot(X_test, self.theta))\n",
    "        y_pred_label = (y_pred_prob >= 0.5).astype(int)\n",
    "        \n",
    "        return y_pred_label, y_pred_prob\n",
    "\n",
    "    def evaluate(self, y_true, y_pred):\n",
    "        \n",
    "        accuracy = accuracy_score(y_true, y_pred)\n",
    "        f1 = f1_score(y_true, y_pred)\n",
    "        conf_matrix = confusion_matrix(y_true, y_pred)\n",
    "        \n",
    "        print(f\"Accuracy: {accuracy}\")\n",
    "        print(f\"F1 Score: {f1}\")\n",
    "        print(f\"Confusion Matrix:\\n{conf_matrix}\")\n",
    "        \n",
    "        return accuracy, f1, conf_matrix\n"
   ]
  },
  {
   "cell_type": "code",
   "execution_count": 84,
   "metadata": {},
   "outputs": [
    {
     "name": "stdout",
     "output_type": "stream",
     "text": [
      "Iteration 0, Loss: 0.7932364445856777\n",
      "Iteration 1000, Loss: 0.04643662519474858\n",
      "Iteration 2000, Loss: 0.027515365704780796\n",
      "Iteration 3000, Loss: 0.01966690399736103\n",
      "Iteration 4000, Loss: 0.01533166809120012\n",
      "Iteration 0, Loss: 0.6697549833585265\n",
      "Iteration 1000, Loss: 0.1712378343836135\n",
      "Iteration 2000, Loss: 0.12216705553855253\n",
      "Iteration 3000, Loss: 0.09839299340068973\n",
      "Iteration 4000, Loss: 0.08353632184053802\n",
      "Iteration 0, Loss: 0.7103226837741279\n",
      "Iteration 1000, Loss: 0.045821615993307835\n",
      "Iteration 2000, Loss: 0.027996947817800016\n",
      "Iteration 3000, Loss: 0.02067443136725156\n",
      "Iteration 4000, Loss: 0.01665085468795389\n",
      "Iteration 0, Loss: 0.7960617672302501\n",
      "Iteration 1000, Loss: 0.15649889160225575\n",
      "Iteration 2000, Loss: 0.11610593123228902\n",
      "Iteration 3000, Loss: 0.09478106617054016\n",
      "Iteration 4000, Loss: 0.08101483706090319\n",
      "Iteration 0, Loss: 0.6837054289595734\n",
      "Iteration 1000, Loss: 0.04841518950871174\n",
      "Iteration 2000, Loss: 0.029905821992044106\n",
      "Iteration 3000, Loss: 0.0219255630070848\n",
      "Iteration 4000, Loss: 0.01740309334301693\n",
      "Iteration 0, Loss: 0.6587559885645096\n",
      "Iteration 1000, Loss: 0.1513466860658926\n",
      "Iteration 2000, Loss: 0.11536379906353442\n",
      "Iteration 3000, Loss: 0.09603932160965638\n",
      "Iteration 4000, Loss: 0.08318886242534287\n",
      "Iteration 0, Loss: 0.5908938509278758\n",
      "Iteration 1000, Loss: 0.057884868738406293\n",
      "Iteration 2000, Loss: 0.0350986696847564\n",
      "Iteration 3000, Loss: 0.025366127584974904\n",
      "Iteration 4000, Loss: 0.01995348445289002\n",
      "Iteration 0, Loss: 0.6009999169941125\n",
      "Iteration 1000, Loss: 0.19301662204148531\n",
      "Iteration 2000, Loss: 0.14440779488850963\n",
      "Iteration 3000, Loss: 0.11809692670524063\n",
      "Iteration 4000, Loss: 0.1012291013158447\n",
      "Iteration 0, Loss: 0.7758367719107044\n",
      "Iteration 1000, Loss: 0.06907231626596065\n",
      "Iteration 2000, Loss: 0.04344321211860059\n",
      "Iteration 3000, Loss: 0.03225208338370171\n",
      "Iteration 4000, Loss: 0.02587379818016096\n",
      "Iteration 0, Loss: 0.8605902310609775\n",
      "Iteration 1000, Loss: 0.21441597320562236\n",
      "Iteration 2000, Loss: 0.16287507663795983\n",
      "Iteration 3000, Loss: 0.13526486016357187\n",
      "Iteration 4000, Loss: 0.11719080781242816\n"
     ]
    }
   ],
   "source": [
    "classifiers = {}\n",
    "losses = {}\n",
    "best_losses = {}\n",
    "learning_rates = [0.01,0.001]\n",
    "num_epochs_values = [5000]\n",
    "best_params = {}\n",
    "\n",
    "for i in [\"entertainment\", \"business\", \"sports\", \"science-technology\", \"world\"]:\n",
    "    best_loss = float('inf')\n",
    "    best_lr = None\n",
    "    best_epochs = None\n",
    "\n",
    "    for lr in learning_rates:\n",
    "        for num_epochs in num_epochs_values:\n",
    "            y_binary = (train_labels == i).astype(int)\n",
    "            classifier = RegularizedLogisticRegression(\n",
    "                learning_rate=lr, \n",
    "                num_iterations=num_epochs, \n",
    "                lambda_reg=0.001\n",
    "            )\n",
    "            \n",
    "            cost = classifier.fit(X_train_vectors, y_binary)\n",
    "            final_loss = cost[-1]\n",
    "\n",
    "            if final_loss < best_loss:\n",
    "                best_loss = final_loss\n",
    "                best_lr = lr\n",
    "                best_epochs = num_epochs\n",
    "                classifiers[i] = classifier\n",
    "                losses[i] = cost\n",
    "                best_losses[i] = best_loss\n",
    "\n",
    "    best_params[i] = {'learning_rate': best_lr, 'epochs': best_epochs}\n"
   ]
  },
  {
   "cell_type": "code",
   "execution_count": 85,
   "metadata": {},
   "outputs": [
    {
     "data": {
      "image/png": "[encoded data removed]",
      "text/plain": [
       "<Figure size 640x480 with 1 Axes>"
      ]
     },
     "metadata": {},
     "output_type": "display_data"
    },
    {
     "name": "stdout",
     "output_type": "stream",
     "text": [
      "\n",
      "=== Final Training Results ===\n",
      "\n",
      "Best Loss Values:\n",
      "Class entertainment: 0.012577\n",
      "Class business: 0.014102\n",
      "Class sports: 0.014495\n",
      "Class science-technology: 0.016517\n",
      "Class world: 0.021740\n",
      "\n",
      "Best Hyperparameters:\n",
      "Class entertainment:\n",
      "  Learning Rate: 0.01\n",
      "  Epochs: 5000\n",
      "Class business:\n",
      "  Learning Rate: 0.01\n",
      "  Epochs: 5000\n",
      "Class sports:\n",
      "  Learning Rate: 0.01\n",
      "  Epochs: 5000\n",
      "Class science-technology:\n",
      "  Learning Rate: 0.01\n",
      "  Epochs: 5000\n",
      "Class world:\n",
      "  Learning Rate: 0.01\n",
      "  Epochs: 5000\n"
     ]
    }
   ],
   "source": [
    "for i in [\"entertainment\", \"business\", \"sports\", \"science-technology\", \"world\"]:\n",
    "    loss_values = np.array(losses[i])\n",
    "    epochs = np.arange(len(loss_values))\n",
    "    plt.plot(epochs, \n",
    "             loss_values, \n",
    "             label=f'Class {i} vs Rest (lr={best_params[i][\"learning_rate\"]})')\n",
    "\n",
    "plt.xlabel('Epochs')\n",
    "plt.ylabel('Loss')\n",
    "plt.title('Training Loss for All Classifiers')\n",
    "plt.legend()\n",
    "plt.grid(True)\n",
    "plt.ylim(0, 1)\n",
    "plt.yticks(np.arange(0, 1.1, 0.2))\n",
    "plt.tight_layout()\n",
    "plt.show()\n",
    "\n",
    "\n",
    "print(\"\\n=== Final Training Results ===\")\n",
    "print(\"\\nBest Loss Values:\")\n",
    "for i in [\"entertainment\", \"business\", \"sports\", \"science-technology\", \"world\"]:\n",
    "    print(f\"Class {i}: {best_losses[i]:.6f}\")\n",
    "\n",
    "print(\"\\nBest Hyperparameters:\")\n",
    "for i in [\"entertainment\", \"business\", \"sports\", \"science-technology\", \"world\"]:\n",
    "    print(f\"Class {i}:\")\n",
    "    print(f\"  Learning Rate: {best_params[i]['learning_rate']}\")\n",
    "    print(f\"  Epochs: {best_params[i]['epochs']}\")"
   ]
  },
  {
   "cell_type": "code",
   "execution_count": 86,
   "metadata": {},
   "outputs": [
    {
     "name": "stdout",
     "output_type": "stream",
     "text": [
      "                Class                                              Probs  \\\n",
      "0       entertainment  [7.117862694591398e-10, 0.00012423810438667063...   \n",
      "1            business  [2.4291953032265544e-07, 8.606457074285783e-06...   \n",
      "2              sports  [0.9999999977677563, 6.009465703170881e-06, 1....   \n",
      "3  science-technology  [8.835705160229688e-13, 2.8482092067163395e-07...   \n",
      "4               world  [6.175251586641359e-07, 0.9997389489198871, 2....   \n",
      "\n",
      "   Accuracy  F1 Score     Confusion Matrix  \n",
      "0  0.973154  0.928571  [[238, 0], [8, 52]]  \n",
      "1  0.979866  0.954545  [[229, 1], [5, 63]]  \n",
      "2  0.983221  0.954128  [[241, 0], [5, 52]]  \n",
      "3  0.959732  0.875000  [[244, 3], [9, 42]]  \n",
      "4  0.963087  0.905983  [[234, 2], [9, 53]]  \n"
     ]
    }
   ],
   "source": [
    "results = {\n",
    "    'Class': [],\n",
    "    'Probs':[],\n",
    "    'Accuracy': [],\n",
    "    'F1 Score': [],\n",
    "    'Confusion Matrix': []\n",
    "}\n",
    "\n",
    "for i in [\"entertainment\", \"business\", \"sports\", \"science-technology\", \"world\"]: \n",
    "    y_test_binary = (test_labels == i).astype(int)  \n",
    "    predicted_class, probability = classifiers[i].predict(X_test_vectors) \n",
    "    accuracy = accuracy_score(y_test_binary, predicted_class)\n",
    "    f1 = f1_score(y_test_binary, predicted_class)\n",
    "    cm = confusion_matrix(y_test_binary, predicted_class)\n",
    "\n",
    "    \n",
    "    results['Class'].append(i)\n",
    "    results['Probs'].append(probability)\n",
    "    results['Accuracy'].append(accuracy)\n",
    "    results['F1 Score'].append(f1)\n",
    "    results['Confusion Matrix'].append(cm)\n",
    "\n",
    "results_df = pd.DataFrame(results)\n",
    "print(results_df)"
   ]
  },
  {
   "cell_type": "code",
   "execution_count": null,
   "metadata": {},
   "outputs": [
    {
     "name": "stdout",
     "output_type": "stream",
     "text": [
      "[2 4 1 3 1 0 0 4 1 1 2 2 1 1 1 2 0 1 3 0 2 0 4 1 1 2 1 3 2 2 3 3 3 4 2 0 2\n",
      " 1 1 4 2 2 1 2 1 2 4 0 0 4 1 3 3 0 4 3 1 1 3 4 4 4 3 0 0 1 0 2 1 2 0 4 3 4\n",
      " 3 0 4 2 0 0 1 0 2 1 2 2 0 1 3 2 1 1 2 2 4 4 2 0 0 2 0 1 1 0 1 3 4 4 4 4 1\n",
      " 3 4 1 1 0 2 4 4 3 1 3 1 4 3 2 2 3 3 0 0 4 4 0 1 3 2 4 2 0 1 2 3 1 1 1 1 0\n",
      " 4 2 1 3 0 0 0 3 0 1 1 4 4 2 4 3 1 1 1 4 2 4 4 1 0 1 3 0 4 4 4 3 1 3 3 1 0\n",
      " 0 2 0 3 3 2 3 3 3 1 0 4 2 0 0 0 0 2 2 4 3 2 1 4 2 4 0 3 3 1 0 0 1 1 1 4 2\n",
      " 4 3 0 1 3 0 1 4 0 1 2 1 4 3 1 2 3 4 1 3 4 4 0 3 3 2 4 0 1 0 0 3 2 3 2 4 4\n",
      " 0 2 4 4 4 0 2 2 4 0 0 1 3 4 2 0 4 4 3 1 2 1 1 4 0 1 2 3 2 2 1 2 3 0 2 0 4\n",
      " 4 4]\n",
      "Accuracy: 0.9463\n",
      "Confusion Matrix:\n",
      "[[57  0  1  1  1]\n",
      " [ 0 65  0  3  0]\n",
      " [ 0  0 56  0  1]\n",
      " [ 0  4  0 45  2]\n",
      " [ 0  2  0  1 59]]\n",
      "Macro F1 Score: 0.9454\n",
      "\n",
      "Classification Report:\n",
      "\n",
      "                    precision    recall  f1-score   support\n",
      "\n",
      "     entertainment       1.00      0.95      0.97        60\n",
      "          business       0.92      0.96      0.94        68\n",
      "            sports       0.98      0.98      0.98        57\n",
      "science-technology       0.90      0.88      0.89        51\n",
      "             world       0.94      0.95      0.94        62\n",
      "\n",
      "          accuracy                           0.95       298\n",
      "         macro avg       0.95      0.94      0.95       298\n",
      "      weighted avg       0.95      0.95      0.95       298\n",
      "\n"
     ]
    }
   ],
   "source": [
    "class_mapping = {\n",
    "    \"entertainment\": 0,\n",
    "    \"business\": 1,\n",
    "    \"sports\": 2,\n",
    "    \"science-technology\": 3,\n",
    "    \"world\": 4\n",
    "}\n",
    "\n",
    "encoded_test_labels = np.array([class_mapping[label] for label in test_labels])\n",
    "print(encoded_test_labels)\n",
    "import numpy as np\n",
    "from sklearn.metrics import accuracy_score, f1_score, confusion_matrix\n",
    "\n",
    "probabilities = np.zeros((X_test_vectors.shape[0], 5))\n",
    "\n",
    "for class_name, class_idx in class_mapping.items():\n",
    "    _, prob = classifiers[class_name].predict(X_test_vectors)\n",
    "    probabilities[:, class_idx] = prob  # Fill probabilities for the class\n",
    "\n",
    "predicted_labels = np.argmax(probabilities, axis=1)\n",
    "\n",
    "accuracy = accuracy_score(encoded_test_labels, predicted_labels)\n",
    "print(f\"Accuracy: {accuracy:.4f}\")\n",
    "\n",
    "conf_matrix = confusion_matrix(encoded_test_labels, predicted_labels)\n",
    "print(f\"Confusion Matrix:\\n{conf_matrix}\")\n",
    "\n",
    "macro_f1 = f1_score(encoded_test_labels, predicted_labels, average='macro')\n",
    "print(f\"Macro F1 Score: {macro_f1:.4f}\")\n",
    "\n",
    "\n",
    "class_labels = list(class_mapping.keys())  \n",
    "report = classification_report(encoded_test_labels, predicted_labels, target_names=class_labels)\n",
    "print(\"\\nClassification Report:\\n\")\n",
    "print(report)\n"
   ]
  },
  {
   "cell_type": "code",
   "execution_count": null,
   "metadata": {},
   "outputs": [
    {
     "data": {
      "image/png": "[encoded data removed]",
      "text/plain": [
       "<Figure size 1000x800 with 2 Axes>"
      ]
     },
     "metadata": {},
     "output_type": "display_data"
    }
   ],
   "source": [
    "import matplotlib.pyplot as plt\n",
    "import seaborn as sns\n",
    "from sklearn.metrics import ConfusionMatrixDisplay\n",
    "\n",
    "\n",
    "plt.figure(figsize=(10, 8))\n",
    "\n",
    "sns.heatmap(conf_matrix, annot=True, fmt='d', cmap='Blues', xticklabels=class_labels, yticklabels=class_labels)\n",
    "\n",
    "plt.xlabel('Predicted Labels')\n",
    "plt.ylabel('True Labels')\n",
    "plt.title('Confusion Matrix')\n",
    "plt.tight_layout()\n",
    "\n",
    "plt.show()\n"
   ]
  },
  {
   "cell_type": "code",
   "execution_count": 91,
   "metadata": {},
   "outputs": [
    {
     "name": "stdout",
     "output_type": "stream",
     "text": [
      "Numeric labels: [3 4 0 2 0 1 1 4 0 0 3 3 0 0 0 3 1 0 2 1 3 1 4 0 0 3 0 2 3 3 2 2 2 4 3 1 3\n",
      " 0 0 4 3 3 0 3 0 3 4 1 1 4 0 2 2 1 4 2 0 0 2 4 4 4 2 1 1 0 1 3 0 3 1 4 2 4\n",
      " 2 1 4 3 1 1 0 1 3 0 3 3 1 0 2 3 0 0 3 3 4 4 3 1 1 3 1 0 0 1 0 2 4 4 4 4 0\n",
      " 2 4 0 0 1 3 4 4 2 0 2 0 4 2 3 3 2 2 1 1 4 4 1 0 2 3 4 3 1 0 3 2 0 0 0 0 1\n",
      " 4 3 0 2 1 1 1 2 1 0 0 4 4 3 4 2 0 0 0 4 3 4 4 0 1 0 2 1 4 4 4 2 0 2 2 0 1\n",
      " 1 3 1 2 2 3 2 2 2 0 1 4 3 1 1 1 1 3 3 4 2 3 0 4 3 4 1 2 2 0 1 1 0 0 0 4 3\n",
      " 4 2 1 0 2 1 0 4 1 0 3 0 4 2 0 3 2 4 0 2 4 4 1 2 2 3 4 1 0 1 1 2 3 2 3 4 4\n",
      " 1 3 4 4 4 1 3 3 4 1 1 0 2 4 3 1 4 4 2 0 3 0 0 4 1 0 3 2 3 3 0 3 2 1 3 1 4\n",
      " 4 4]\n",
      "Original classes: ['business' 'entertainment' 'science-technology' 'sports' 'world']\n"
     ]
    }
   ],
   "source": [
    "print(\"Numeric labels:\", numeric_labels)\n",
    "print(\"Original classes:\", label_encoder.classes_)\n"
   ]
  }
 ],
 "metadata": {
  "kernelspec": {
   "display_name": "Python 3 (ipykernel)",
   "language": "python",
   "name": "python3"
  },
  "language_info": {
   "codemirror_mode": {
    "name": "ipython",
    "version": 3
   },
   "file_extension": ".py",
   "mimetype": "text/x-python",
   "name": "python",
   "nbconvert_exporter": "python",
   "pygments_lexer": "ipython3",
   "version": "3.12.4"
  }
 },
 "nbformat": 4,
 "nbformat_minor": 4
}
