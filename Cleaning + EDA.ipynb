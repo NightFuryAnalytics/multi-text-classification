{
 "cells": [
  {
   "cell_type": "markdown",
   "metadata": {},
   "source": [
    "<h1>Data Cleaning</h1>"
   ]
  },
  {
   "cell_type": "markdown",
   "metadata": {},
   "source": [
    "<h2>Load Scraped Data</h2>"
   ]
  },
  {
   "cell_type": "code",
   "execution_count": 85,
   "metadata": {},
   "outputs": [],
   "source": [
    "import pandas as pd\n",
    "import re\n",
    "import numpy as np\n",
    "import matplotlib.pyplot as plt\n",
    "import seaborn as sns"
   ]
  },
  {
   "cell_type": "code",
   "execution_count": 86,
   "metadata": {},
   "outputs": [
    {
     "data": {
      "text/html": [
       "<div>\n",
       "<style scoped>\n",
       "    .dataframe tbody tr th:only-of-type {\n",
       "        vertical-align: middle;\n",
       "    }\n",
       "\n",
       "    .dataframe tbody tr th {\n",
       "        vertical-align: top;\n",
       "    }\n",
       "\n",
       "    .dataframe thead th {\n",
       "        text-align: right;\n",
       "    }\n",
       "</style>\n",
       "<table border=\"1\" class=\"dataframe\">\n",
       "  <thead>\n",
       "    <tr style=\"text-align: right;\">\n",
       "      <th></th>\n",
       "      <th>id</th>\n",
       "      <th>title</th>\n",
       "      <th>link</th>\n",
       "      <th>content</th>\n",
       "      <th>gold_label</th>\n",
       "    </tr>\n",
       "  </thead>\n",
       "  <tbody>\n",
       "    <tr>\n",
       "      <th>0</th>\n",
       "      <td>0</td>\n",
       "      <td>ہم لکھنے والے ایک بے ایمان معاشرہ میں سانس لے ...</td>\n",
       "      <td>https://urdu.arynews.tv/intezar-hussain-urdu-w...</td>\n",
       "      <td>میں سوچتا ہوں کہ ہم غالب سے کتنے مختلف زمانے م...</td>\n",
       "      <td>entertainment</td>\n",
       "    </tr>\n",
       "    <tr>\n",
       "      <th>1</th>\n",
       "      <td>1</td>\n",
       "      <td>’’کیا اُدھر باغ بھی ہے؟‘‘</td>\n",
       "      <td>https://urdu.arynews.tv/lakhnau-nawab-mahalsara/</td>\n",
       "      <td>محمد حسین آزاد نے میر کے بارے میں ایک واقعہ ل...</td>\n",
       "      <td>entertainment</td>\n",
       "    </tr>\n",
       "    <tr>\n",
       "      <th>2</th>\n",
       "      <td>2</td>\n",
       "      <td>کچھ زخمی کہہ رہے تھے کہ وہ زندہ ہیں…</td>\n",
       "      <td>https://urdu.arynews.tv/politics-and-politicia...</td>\n",
       "      <td>وطنِ عزیز کی سیاست کا دار و مدار اب اس پر رہ گ...</td>\n",
       "      <td>entertainment</td>\n",
       "    </tr>\n",
       "    <tr>\n",
       "      <th>3</th>\n",
       "      <td>3</td>\n",
       "      <td>آگرے والا عبدالکریم اور ملکہ وکٹوریہ</td>\n",
       "      <td>https://urdu.arynews.tv/munshi-abdul-karim-and...</td>\n",
       "      <td>بہت پیارے شوہر البرٹ اور بے حد عزیز ملازم جان ...</td>\n",
       "      <td>entertainment</td>\n",
       "    </tr>\n",
       "    <tr>\n",
       "      <th>4</th>\n",
       "      <td>4</td>\n",
       "      <td>\"چچی سیدانی تھیں….”</td>\n",
       "      <td>https://urdu.arynews.tv/aslam-parvez-khaka/</td>\n",
       "      <td>خاکہ نگاری اردو میں‌ ایک مقبول صنف رہی ہے۔ زیا...</td>\n",
       "      <td>entertainment</td>\n",
       "    </tr>\n",
       "  </tbody>\n",
       "</table>\n",
       "</div>"
      ],
      "text/plain": [
       "   id                                              title  \\\n",
       "0   0  ہم لکھنے والے ایک بے ایمان معاشرہ میں سانس لے ...   \n",
       "1   1                          ’’کیا اُدھر باغ بھی ہے؟‘‘   \n",
       "2   2               کچھ زخمی کہہ رہے تھے کہ وہ زندہ ہیں…   \n",
       "3   3               آگرے والا عبدالکریم اور ملکہ وکٹوریہ   \n",
       "4   4                                \"چچی سیدانی تھیں….”   \n",
       "\n",
       "                                                link  \\\n",
       "0  https://urdu.arynews.tv/intezar-hussain-urdu-w...   \n",
       "1   https://urdu.arynews.tv/lakhnau-nawab-mahalsara/   \n",
       "2  https://urdu.arynews.tv/politics-and-politicia...   \n",
       "3  https://urdu.arynews.tv/munshi-abdul-karim-and...   \n",
       "4        https://urdu.arynews.tv/aslam-parvez-khaka/   \n",
       "\n",
       "                                             content     gold_label  \n",
       "0  میں سوچتا ہوں کہ ہم غالب سے کتنے مختلف زمانے م...  entertainment  \n",
       "1  محمد حسین آزاد نے میر کے بارے میں ایک واقعہ ل...  entertainment  \n",
       "2  وطنِ عزیز کی سیاست کا دار و مدار اب اس پر رہ گ...  entertainment  \n",
       "3  بہت پیارے شوہر البرٹ اور بے حد عزیز ملازم جان ...  entertainment  \n",
       "4  خاکہ نگاری اردو میں‌ ایک مقبول صنف رہی ہے۔ زیا...  entertainment  "
      ]
     },
     "metadata": {},
     "output_type": "display_data"
    },
    {
     "data": {
      "text/plain": [
       "(1495, 5)"
      ]
     },
     "metadata": {},
     "output_type": "display_data"
    }
   ],
   "source": [
    "combined_articles = pd.read_csv(\"combined_articles_final.csv\")\n",
    "display(combined_articles.head())\n",
    "display(combined_articles.shape)"
   ]
  },
  {
   "cell_type": "markdown",
   "metadata": {},
   "source": [
    "<h2>Dealing with Missing Values</h2>"
   ]
  },
  {
   "cell_type": "code",
   "execution_count": 87,
   "metadata": {},
   "outputs": [
    {
     "data": {
      "text/plain": [
       "id            0\n",
       "title         8\n",
       "link          8\n",
       "content       8\n",
       "gold_label    0\n",
       "dtype: int64"
      ]
     },
     "execution_count": 87,
     "metadata": {},
     "output_type": "execute_result"
    }
   ],
   "source": [
    "combined_articles.isna().sum()"
   ]
  },
  {
   "cell_type": "code",
   "execution_count": 88,
   "metadata": {},
   "outputs": [
    {
     "data": {
      "text/html": [
       "<div>\n",
       "<style scoped>\n",
       "    .dataframe tbody tr th:only-of-type {\n",
       "        vertical-align: middle;\n",
       "    }\n",
       "\n",
       "    .dataframe tbody tr th {\n",
       "        vertical-align: top;\n",
       "    }\n",
       "\n",
       "    .dataframe thead th {\n",
       "        text-align: right;\n",
       "    }\n",
       "</style>\n",
       "<table border=\"1\" class=\"dataframe\">\n",
       "  <thead>\n",
       "    <tr style=\"text-align: right;\">\n",
       "      <th></th>\n",
       "      <th>id</th>\n",
       "      <th>title</th>\n",
       "      <th>link</th>\n",
       "      <th>content</th>\n",
       "      <th>gold_label</th>\n",
       "    </tr>\n",
       "  </thead>\n",
       "  <tbody>\n",
       "    <tr>\n",
       "      <th>1482</th>\n",
       "      <td>1490</td>\n",
       "      <td>حماس کی جانب سے رہا کی گئی اسرائیلی لڑکی نے من...</td>\n",
       "      <td>https://jang.com.pk/news/1415862</td>\n",
       "      <td>حماس کی جانب سے رہا کی جانے والی اسرائیلی نوج...</td>\n",
       "      <td>international</td>\n",
       "    </tr>\n",
       "    <tr>\n",
       "      <th>1483</th>\n",
       "      <td>1491</td>\n",
       "      <td>روسی صدر پیوٹن کی انجیلا مرکل کو کتے سے ڈرانے ...</td>\n",
       "      <td>https://jang.com.pk/news/1415855</td>\n",
       "      <td>روس کے صدر  ولادیمیر پیوٹن نے سابق جرمن چانسل...</td>\n",
       "      <td>international</td>\n",
       "    </tr>\n",
       "    <tr>\n",
       "      <th>1484</th>\n",
       "      <td>1492</td>\n",
       "      <td>چین میں دنیا کا سب سے بڑا سونے کا ذخیرہ دریافت</td>\n",
       "      <td>https://jang.com.pk/news/1415840</td>\n",
       "      <td>دنیا کا سب سے بڑا سونے کا ذخیرہ چین میں دریاف...</td>\n",
       "      <td>international</td>\n",
       "    </tr>\n",
       "    <tr>\n",
       "      <th>1485</th>\n",
       "      <td>1493</td>\n",
       "      <td>یوکرین کو جوہری ہتھیار ملے تو تمام فوجی وسائل ...</td>\n",
       "      <td>https://jang.com.pk/news/1415837</td>\n",
       "      <td>روس کے صدر ولادیمیر پیوٹن نے کہا ہے کہ یوک...</td>\n",
       "      <td>international</td>\n",
       "    </tr>\n",
       "    <tr>\n",
       "      <th>1486</th>\n",
       "      <td>1494</td>\n",
       "      <td>ایران کو جوہری بم حاصل کرنے سے روکنے کیلئے سب ...</td>\n",
       "      <td>https://jang.com.pk/news/1415836</td>\n",
       "      <td>اسرائیلی وزیرِ اعظم نیتن یاہو نے کہا ہے کہ ای...</td>\n",
       "      <td>international</td>\n",
       "    </tr>\n",
       "  </tbody>\n",
       "</table>\n",
       "</div>"
      ],
      "text/plain": [
       "        id                                              title  \\\n",
       "1482  1490  حماس کی جانب سے رہا کی گئی اسرائیلی لڑکی نے من...   \n",
       "1483  1491  روسی صدر پیوٹن کی انجیلا مرکل کو کتے سے ڈرانے ...   \n",
       "1484  1492     چین میں دنیا کا سب سے بڑا سونے کا ذخیرہ دریافت   \n",
       "1485  1493  یوکرین کو جوہری ہتھیار ملے تو تمام فوجی وسائل ...   \n",
       "1486  1494  ایران کو جوہری بم حاصل کرنے سے روکنے کیلئے سب ...   \n",
       "\n",
       "                                  link  \\\n",
       "1482  https://jang.com.pk/news/1415862   \n",
       "1483  https://jang.com.pk/news/1415855   \n",
       "1484  https://jang.com.pk/news/1415840   \n",
       "1485  https://jang.com.pk/news/1415837   \n",
       "1486  https://jang.com.pk/news/1415836   \n",
       "\n",
       "                                                content     gold_label  \n",
       "1482   حماس کی جانب سے رہا کی جانے والی اسرائیلی نوج...  international  \n",
       "1483   روس کے صدر  ولادیمیر پیوٹن نے سابق جرمن چانسل...  international  \n",
       "1484   دنیا کا سب سے بڑا سونے کا ذخیرہ چین میں دریاف...  international  \n",
       "1485      روس کے صدر ولادیمیر پیوٹن نے کہا ہے کہ یوک...  international  \n",
       "1486   اسرائیلی وزیرِ اعظم نیتن یاہو نے کہا ہے کہ ای...  international  "
      ]
     },
     "execution_count": 88,
     "metadata": {},
     "output_type": "execute_result"
    }
   ],
   "source": [
    "# Removing a max of 24 articles from our dataset would get rid of less than 3% of our data and we'd still keep it above 1000 articles, making it safe to do so\n",
    "\n",
    "combined_articles = combined_articles.dropna(ignore_index=True)\n",
    "combined_articles.tail()"
   ]
  },
  {
   "cell_type": "markdown",
   "metadata": {},
   "source": [
    "<h2>Checking For Duplicate IDs</h2>"
   ]
  },
  {
   "cell_type": "code",
   "execution_count": 89,
   "metadata": {},
   "outputs": [
    {
     "name": "stdout",
     "output_type": "stream",
     "text": [
      "Duplicate IDs Before: 0\n",
      "Duplicate IDs After: 0\n"
     ]
    }
   ],
   "source": [
    "print(\"Duplicate IDs Before:\", combined_articles['id'].duplicated().sum())\n",
    "# shows ids are duplicated\n",
    "\n",
    "# now we change id to have row numbers in order\n",
    "combined_articles['id'] = range(len(combined_articles))\n",
    "print(\"Duplicate IDs After:\", combined_articles['id'].duplicated().sum())"
   ]
  },
  {
   "cell_type": "markdown",
   "metadata": {},
   "source": [
    "<h2>Checking Labels and their Ratios</h2>"
   ]
  },
  {
   "cell_type": "code",
   "execution_count": 90,
   "metadata": {},
   "outputs": [
    {
     "data": {
      "text/html": [
       "<div>\n",
       "<style scoped>\n",
       "    .dataframe tbody tr th:only-of-type {\n",
       "        vertical-align: middle;\n",
       "    }\n",
       "\n",
       "    .dataframe tbody tr th {\n",
       "        vertical-align: top;\n",
       "    }\n",
       "\n",
       "    .dataframe thead th {\n",
       "        text-align: right;\n",
       "    }\n",
       "</style>\n",
       "<table border=\"1\" class=\"dataframe\">\n",
       "  <thead>\n",
       "    <tr style=\"text-align: right;\">\n",
       "      <th></th>\n",
       "      <th>id</th>\n",
       "      <th>title</th>\n",
       "      <th>link</th>\n",
       "      <th>content</th>\n",
       "      <th>gold_label</th>\n",
       "    </tr>\n",
       "  </thead>\n",
       "  <tbody>\n",
       "    <tr>\n",
       "      <th>0</th>\n",
       "      <td>0</td>\n",
       "      <td>ہم لکھنے والے ایک بے ایمان معاشرہ میں سانس لے ...</td>\n",
       "      <td>https://urdu.arynews.tv/intezar-hussain-urdu-w...</td>\n",
       "      <td>میں سوچتا ہوں کہ ہم غالب سے کتنے مختلف زمانے م...</td>\n",
       "      <td>entertainment</td>\n",
       "    </tr>\n",
       "    <tr>\n",
       "      <th>1</th>\n",
       "      <td>1</td>\n",
       "      <td>’’کیا اُدھر باغ بھی ہے؟‘‘</td>\n",
       "      <td>https://urdu.arynews.tv/lakhnau-nawab-mahalsara/</td>\n",
       "      <td>محمد حسین آزاد نے میر کے بارے میں ایک واقعہ ل...</td>\n",
       "      <td>entertainment</td>\n",
       "    </tr>\n",
       "    <tr>\n",
       "      <th>2</th>\n",
       "      <td>2</td>\n",
       "      <td>کچھ زخمی کہہ رہے تھے کہ وہ زندہ ہیں…</td>\n",
       "      <td>https://urdu.arynews.tv/politics-and-politicia...</td>\n",
       "      <td>وطنِ عزیز کی سیاست کا دار و مدار اب اس پر رہ گ...</td>\n",
       "      <td>entertainment</td>\n",
       "    </tr>\n",
       "    <tr>\n",
       "      <th>3</th>\n",
       "      <td>3</td>\n",
       "      <td>آگرے والا عبدالکریم اور ملکہ وکٹوریہ</td>\n",
       "      <td>https://urdu.arynews.tv/munshi-abdul-karim-and...</td>\n",
       "      <td>بہت پیارے شوہر البرٹ اور بے حد عزیز ملازم جان ...</td>\n",
       "      <td>entertainment</td>\n",
       "    </tr>\n",
       "    <tr>\n",
       "      <th>4</th>\n",
       "      <td>4</td>\n",
       "      <td>\"چچی سیدانی تھیں….”</td>\n",
       "      <td>https://urdu.arynews.tv/aslam-parvez-khaka/</td>\n",
       "      <td>خاکہ نگاری اردو میں‌ ایک مقبول صنف رہی ہے۔ زیا...</td>\n",
       "      <td>entertainment</td>\n",
       "    </tr>\n",
       "  </tbody>\n",
       "</table>\n",
       "</div>"
      ],
      "text/plain": [
       "   id                                              title  \\\n",
       "0   0  ہم لکھنے والے ایک بے ایمان معاشرہ میں سانس لے ...   \n",
       "1   1                          ’’کیا اُدھر باغ بھی ہے؟‘‘   \n",
       "2   2               کچھ زخمی کہہ رہے تھے کہ وہ زندہ ہیں…   \n",
       "3   3               آگرے والا عبدالکریم اور ملکہ وکٹوریہ   \n",
       "4   4                                \"چچی سیدانی تھیں….”   \n",
       "\n",
       "                                                link  \\\n",
       "0  https://urdu.arynews.tv/intezar-hussain-urdu-w...   \n",
       "1   https://urdu.arynews.tv/lakhnau-nawab-mahalsara/   \n",
       "2  https://urdu.arynews.tv/politics-and-politicia...   \n",
       "3  https://urdu.arynews.tv/munshi-abdul-karim-and...   \n",
       "4        https://urdu.arynews.tv/aslam-parvez-khaka/   \n",
       "\n",
       "                                             content     gold_label  \n",
       "0  میں سوچتا ہوں کہ ہم غالب سے کتنے مختلف زمانے م...  entertainment  \n",
       "1  محمد حسین آزاد نے میر کے بارے میں ایک واقعہ ل...  entertainment  \n",
       "2  وطنِ عزیز کی سیاست کا دار و مدار اب اس پر رہ گ...  entertainment  \n",
       "3  بہت پیارے شوہر البرٹ اور بے حد عزیز ملازم جان ...  entertainment  \n",
       "4  خاکہ نگاری اردو میں‌ ایک مقبول صنف رہی ہے۔ زیا...  entertainment  "
      ]
     },
     "metadata": {},
     "output_type": "display_data"
    },
    {
     "data": {
      "text/plain": [
       "gold_label\n",
       "entertainment         300\n",
       "sports                300\n",
       "business              299\n",
       "science-technology    200\n",
       "world                 200\n",
       "international          98\n",
       "Entertainment          18\n",
       "Business               18\n",
       "Sports                 18\n",
       "Science-Technology     18\n",
       "World                  18\n",
       "Name: count, dtype: int64"
      ]
     },
     "metadata": {},
     "output_type": "display_data"
    }
   ],
   "source": [
    "display(combined_articles.head())\n",
    "display(combined_articles['gold_label'].value_counts())"
   ]
  },
  {
   "cell_type": "code",
   "execution_count": 91,
   "metadata": {},
   "outputs": [
    {
     "data": {
      "text/plain": [
       "gold_label\n",
       "entertainment         318\n",
       "sports                318\n",
       "business              317\n",
       "world                 316\n",
       "science-technology    218\n",
       "Name: count, dtype: int64"
      ]
     },
     "metadata": {},
     "output_type": "display_data"
    }
   ],
   "source": [
    "# Combining same labels\n",
    "combined_articles['gold_label'] = combined_articles['gold_label'].replace({'Science-Technology': 'science-technology',\n",
    "                                                                          'Entertainment': 'entertainment',\n",
    "                                                                          'Business': 'business',\n",
    "                                                                          'Sports': 'sports',\n",
    "                                                                          'World': 'world',\n",
    "                                                                          'international': 'world'})\n",
    "\n",
    "display(combined_articles['gold_label'].value_counts())"
   ]
  },
  {
   "cell_type": "markdown",
   "metadata": {},
   "source": [
    "<h2>Clean Content Text</h2>"
   ]
  },
  {
   "cell_type": "code",
   "execution_count": 92,
   "metadata": {},
   "outputs": [
    {
     "data": {
      "text/plain": [
       "0    سوچتا ہوں غالب س کتن مختلف زمان جی رہ ہیں شخص ...\n",
       "1    محمد حسین آزاد ن میر ک بار واقعہ لکھا ہ انھوں...\n",
       "2    وطنِ عزیز سیاست دار و مدار رہ ہ جماعت ن کتنا ب...\n",
       "3    پیار شوہر البرٹ ب حد عزیز ملازم جان بران ک مرن...\n",
       "4    خاکہ نگاری اردو مقبول صنف رہی ہ زیادہ تر اہلِ ...\n",
       "Name: content, dtype: object"
      ]
     },
     "execution_count": 92,
     "metadata": {},
     "output_type": "execute_result"
    }
   ],
   "source": [
    "stopwords = {\n",
    "    'اور', 'ایک', 'کو', 'ہے', 'میں', 'کی', 'سے', 'پر', 'ہو', 'یہ', 'کا', 'اس', 'کہ', 'کر', 'تھا', 'تھی', 'تھے', \n",
    "    'لیے', 'بھی', 'نے', 'جو', 'ہوا', 'وہ', 'کیا', 'جا', 'نہ', 'تو', 'یا', 'کرنے', 'گیا', 'کر', 'دیا', \n",
    "    'لیکن', 'بہت', 'آپ', 'ہم', 'سب', 'کچھ', 'اپنے', 'ان', 'کردی', 'اگر', 'ہوتی', 'اب', 'مجھے', 'اسی', 'جس', 'اسے', \n",
    "    'اپنی', 'کسی', 'ہوتا', 'انہوں', 'تھیں', 'کہا', 'جب', 'اُس', 'کل', 'کوئی', 'ہوتے', 'تم', 'کس', 'رہا', 'کن', 'ایسے', \n",
    "    'جاتا', 'اسی', 'اُن', 'رہے', 'گئے', 'جاتی', 'تھے', 'اُنہوں', 'اُسی', 'بنی', 'بعد', 'چاہیے', 'بین', 'پھر', 'اُنکا', 'ہونے'\n",
    "}\n",
    "\n",
    "def clean_data(text, stop_words):\n",
    "    text = re.sub(r'https?://\\S+|www\\.\\S+', '', text)\n",
    "    text = re.sub(r'[^ا-ی0-9\\s]', '', text)\n",
    "    text = text.lower()\n",
    "    text = re.sub(r'\\s+', ' ', text).strip()\n",
    "\n",
    "    clean_text = ' '.join([word for word in text.split() if word not in stop_words])\n",
    "        \n",
    "    return clean_text\n",
    "\n",
    "combined_articles['content'] = combined_articles['content'].apply(lambda x: clean_data(x, stopwords))\n",
    "combined_articles['content'].head()"
   ]
  },
  {
   "cell_type": "markdown",
   "metadata": {},
   "source": [
    "<h2>Write Back New CSV File</h2>"
   ]
  },
  {
   "cell_type": "code",
   "execution_count": 93,
   "metadata": {},
   "outputs": [],
   "source": [
    "combined_articles.to_csv('combined_articles_final.csv', index=False)"
   ]
  },
  {
   "cell_type": "markdown",
   "metadata": {},
   "source": [
    "<h1>Exploratory Data Analysis</h1>"
   ]
  },
  {
   "cell_type": "markdown",
   "metadata": {},
   "source": [
    "## Articles in to Bag of Words"
   ]
  },
  {
   "cell_type": "code",
   "execution_count": 94,
   "metadata": {},
   "outputs": [],
   "source": [
    "class BagOfWords:\n",
    "    def __init__(self):\n",
    "        self.vocabulary_ = {}\n",
    "        self.vocabulary_size_ = 0\n",
    "    \n",
    "    def fit(self, corpus):\n",
    "        word_set = set()\n",
    "        for sentence in corpus:\n",
    "            word_set.update(sentence.split())\n",
    "        \n",
    "        self.vocabulary_ = {word: idx for idx, word in enumerate(sorted(word_set))}\n",
    "        self.vocabulary_size_ = len(self.vocabulary_)\n",
    "    \n",
    "    def vectorize(self, sentence):\n",
    "        words = sentence.split()\n",
    "        vector = np.zeros(self.vocabulary_size_, dtype=int)\n",
    "        for word in words:\n",
    "            if word in self.vocabulary_:\n",
    "                vector[self.vocabulary_[word]] += 1\n",
    "        return vector"
   ]
  },
  {
   "cell_type": "code",
   "execution_count": 95,
   "metadata": {},
   "outputs": [
    {
     "data": {
      "text/plain": [
       "(1487, 19408)"
      ]
     },
     "execution_count": 95,
     "metadata": {},
     "output_type": "execute_result"
    }
   ],
   "source": [
    "bow = BagOfWords()\n",
    "bow.fit(combined_articles['content'])\n",
    "\n",
    "content_vector = np.array([bow.vectorize(text) for text in combined_articles['content']])\n",
    "content_vector.shape"
   ]
  },
  {
   "cell_type": "markdown",
   "metadata": {},
   "source": [
    "#### Article Category Distribution"
   ]
  },
  {
   "cell_type": "code",
   "execution_count": 96,
   "metadata": {},
   "outputs": [
    {
     "data": {
      "image/png": "[encoded data removed]",
      "text/plain": [
       "<Figure size 640x480 with 1 Axes>"
      ]
     },
     "metadata": {},
     "output_type": "display_data"
    }
   ],
   "source": [
    "# Plot category distribution\n",
    "sns.countplot(y=combined_articles['gold_label'], order=combined_articles['gold_label'].value_counts().index)\n",
    "plt.title('Distribution of Article Categories')\n",
    "plt.xlabel('Count')\n",
    "plt.ylabel('Article Category')\n",
    "plt.show()"
   ]
  },
  {
   "cell_type": "markdown",
   "metadata": {},
   "source": [
    "#### Article Lengths"
   ]
  },
  {
   "cell_type": "code",
   "execution_count": 103,
   "metadata": {},
   "outputs": [
    {
     "data": {
      "image/png": "[encoded data removed]",
      "text/plain": [
       "<Figure size 640x480 with 1 Axes>"
      ]
     },
     "metadata": {},
     "output_type": "display_data"
    },
    {
     "data": {
      "image/png": "[encoded data removed]",
      "text/plain": [
       "<Figure size 900x500 with 1 Axes>"
      ]
     },
     "metadata": {},
     "output_type": "display_data"
    }
   ],
   "source": [
    "combined_articles['article_len'] = combined_articles['content'].apply(lambda x: len(x.split()))\n",
    "\n",
    "sns.histplot(combined_articles['article_len'], kde=True, bins=10)\n",
    "plt.title('Distribution of Article Lengths')\n",
    "plt.xlabel('Number of Words')\n",
    "plt.ylabel('Frequency')\n",
    "plt.show()\n",
    "\n",
    "# Average article length by category\n",
    "length_by_category = combined_articles.groupby('gold_label')['article_len'].mean()\n",
    "plt.figure(figsize=(9,5))\n",
    "plt.bar(length_by_category.keys(), length_by_category, color='orange')\n",
    "plt.title('Average Article Length by Category')\n",
    "plt.xlabel('Article Category')\n",
    "plt.ylabel('Average Frequency')\n",
    "plt.show()"
   ]
  }
 ],
 "metadata": {
  "kernelspec": {
   "display_name": "Python 3 (ipykernel)",
   "language": "python",
   "name": "python3"
  },
  "language_info": {
   "codemirror_mode": {
    "name": "ipython",
    "version": 3
   },
   "file_extension": ".py",
   "mimetype": "text/x-python",
   "name": "python",
   "nbconvert_exporter": "python",
   "pygments_lexer": "ipython3",
   "version": "3.12.4"
  }
 },
 "nbformat": 4,
 "nbformat_minor": 4
}
